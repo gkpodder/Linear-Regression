{
  "nbformat": 4,
  "nbformat_minor": 0,
  "metadata": {
    "colab": {
      "name": "Linear regression.ipynb",
      "provenance": [],
      "collapsed_sections": [],
      "include_colab_link": true
    },
    "kernelspec": {
      "name": "python3",
      "display_name": "Python 3"
    }
  },
  "cells": [
    {
      "cell_type": "markdown",
      "metadata": {
        "id": "view-in-github",
        "colab_type": "text"
      },
      "source": [
        "<a href=\"https://colab.research.google.com/github/gkpodder/Linear-Regression/blob/main/Linear_regression.ipynb\" target=\"_parent\"><img src=\"https://colab.research.google.com/assets/colab-badge.svg\" alt=\"Open In Colab\"/></a>"
      ]
    },
    {
      "cell_type": "code",
      "metadata": {
        "id": "p0VWfcY4ZJNo",
        "colab": {
          "base_uri": "https://localhost:8080/",
          "height": 51
        },
        "outputId": "e1802027-9ee9-410d-eca6-eeca08ce8d56"
      },
      "source": [
        "!pip3 install torch"
      ],
      "execution_count": null,
      "outputs": [
        {
          "output_type": "stream",
          "text": [
            "Requirement already satisfied: torch in /usr/local/lib/python3.6/dist-packages (1.3.0+cu100)\n",
            "Requirement already satisfied: numpy in /usr/local/lib/python3.6/dist-packages (from torch) (1.17.3)\n"
          ],
          "name": "stdout"
        }
      ]
    },
    {
      "cell_type": "code",
      "metadata": {
        "id": "7Pw6r_fUZXjf"
      },
      "source": [
        "import torch\n",
        "from torch.nn import Linear"
      ],
      "execution_count": null,
      "outputs": []
    },
    {
      "cell_type": "code",
      "metadata": {
        "id": "PBVHtdkeZj2K"
      },
      "source": [
        "w = torch.tensor(3.0, requires_grad = True)\n",
        "b = torch.tensor(1.0, requires_grad = True)\n"
      ],
      "execution_count": null,
      "outputs": []
    },
    {
      "cell_type": "code",
      "metadata": {
        "id": "ImCQa3ETZxxt"
      },
      "source": [
        "def forward(x):\n",
        "  y = w*x + b\n",
        "  return y"
      ],
      "execution_count": null,
      "outputs": []
    },
    {
      "cell_type": "code",
      "metadata": {
        "id": "6DgsRBtmafj6",
        "colab": {
          "base_uri": "https://localhost:8080/",
          "height": 51
        },
        "outputId": "eea3a2dd-0140-452a-c7f8-e9f782c1c4cf"
      },
      "source": [
        "x = torch.tensor([[4],[7]])\n",
        "forward(x)"
      ],
      "execution_count": null,
      "outputs": [
        {
          "output_type": "execute_result",
          "data": {
            "text/plain": [
              "tensor([[13.],\n",
              "        [22.]], grad_fn=<AddBackward0>)"
            ]
          },
          "metadata": {
            "tags": []
          },
          "execution_count": 5
        }
      ]
    },
    {
      "cell_type": "code",
      "metadata": {
        "id": "9cf_j-jxajSI",
        "colab": {
          "base_uri": "https://localhost:8080/",
          "height": 68
        },
        "outputId": "347c39d2-c44e-4b86-d1a8-82aefebd3515"
      },
      "source": [
        "torch.manual_seed(1)\n",
        "model = Linear(in_features = 1, out_features = 1)\n",
        "print(model.bias,model.weight)"
      ],
      "execution_count": null,
      "outputs": [
        {
          "output_type": "stream",
          "text": [
            "Parameter containing:\n",
            "tensor([-0.4414], requires_grad=True) Parameter containing:\n",
            "tensor([[0.5153]], requires_grad=True)\n"
          ],
          "name": "stdout"
        }
      ]
    },
    {
      "cell_type": "code",
      "metadata": {
        "id": "0Cka-bEPdAHX",
        "colab": {
          "base_uri": "https://localhost:8080/",
          "height": 51
        },
        "outputId": "a3b049d4-2bf9-4810-a766-ad09881e7611"
      },
      "source": [
        "x = torch.tensor([[2.0],[3.3]])\n",
        "print(model(x))"
      ],
      "execution_count": null,
      "outputs": [
        {
          "output_type": "stream",
          "text": [
            "tensor([[0.5891],\n",
            "        [1.2590]], grad_fn=<AddmmBackward>)\n"
          ],
          "name": "stdout"
        }
      ]
    },
    {
      "cell_type": "code",
      "metadata": {
        "id": "yY7vgbMWfugf"
      },
      "source": [
        "#start\n",
        "import torch\n",
        "import torch.nn as nn\n",
        "import matplotlib.pyplot as plt\n",
        "import numpy as np"
      ],
      "execution_count": null,
      "outputs": []
    },
    {
      "cell_type": "code",
      "metadata": {
        "id": "wg3prFeMyVVF",
        "colab": {
          "base_uri": "https://localhost:8080/",
          "height": 299
        },
        "outputId": "e1e327a0-9772-40a8-8d9f-fdced6b67fc4"
      },
      "source": [
        "x = -torch.randn(100,1)*10\n",
        "y = -x + 5*torch.randn(100,1)\n",
        "plt.plot(x.numpy(),y.numpy(),'o')\n",
        "plt.ylabel('y')\n",
        "plt.xlabel('x')\n"
      ],
      "execution_count": null,
      "outputs": [
        {
          "output_type": "execute_result",
          "data": {
            "text/plain": [
              "Text(0.5, 0, 'x')"
            ]
          },
          "metadata": {
            "tags": []
          },
          "execution_count": 9
        },
        {
          "output_type": "display_data",
          "data": {
            "image/png": "[encoded data removed]",
            "text/plain": [
              "<Figure size 432x288 with 1 Axes>"
            ]
          },
          "metadata": {
            "tags": []
          }
        }
      ]
    },
    {
      "cell_type": "code",
      "metadata": {
        "id": "2yH3u9F6dKc1"
      },
      "source": [
        "#the model\n",
        "class LR(nn.Module):\n",
        "  def __init__(self, input_size,output_size):\n",
        "    super().__init__()\n",
        "    self.linear = nn.Linear(input_size,output_size)\n",
        "  def forward(self, x):\n",
        "    pred = self.linear(x)\n",
        "    return pred"
      ],
      "execution_count": null,
      "outputs": []
    },
    {
      "cell_type": "code",
      "metadata": {
        "id": "yUsCQK4Efa-M",
        "colab": {
          "base_uri": "https://localhost:8080/",
          "height": 68
        },
        "outputId": "971d3561-73b2-402e-952c-f403a0815d3a"
      },
      "source": [
        "#seed for rand values\n",
        "torch.manual_seed(2)\n",
        "model = LR(1,1)\n",
        "print(model) "
      ],
      "execution_count": null,
      "outputs": [
        {
          "output_type": "stream",
          "text": [
            "LR(\n",
            "  (linear): Linear(in_features=1, out_features=1, bias=True)\n",
            ")\n"
          ],
          "name": "stdout"
        }
      ]
    },
    {
      "cell_type": "code",
      "metadata": {
        "id": "ixWRlhxzhmqa"
      },
      "source": [
        "#get weight and bias\n",
        "[w,b] = model.parameters()\n",
        "def get_params():\n",
        "  return(w[0][0].item(),b[0].item())"
      ],
      "execution_count": null,
      "outputs": []
    },
    {
      "cell_type": "code",
      "metadata": {
        "id": "HsZVgDa-0K_t"
      },
      "source": [
        "#intial plot\n",
        "#Graph\n",
        "#line creator\n",
        "def plot_fit(title):\n",
        "  plt.title = title\n",
        "  w1,b1 = get_params()\n",
        "  x1 = np.array([-30,30])\n",
        "  y1 = w1*x1 + b1\n",
        "  plt.plot(x1,y1,'r')\n",
        "  plt.scatter(x,y)\n",
        "  plt.show()"
      ],
      "execution_count": null,
      "outputs": []
    },
    {
      "cell_type": "code",
      "metadata": {
        "id": "AgVLKUJp1COq",
        "colab": {
          "base_uri": "https://localhost:8080/",
          "height": 267
        },
        "outputId": "e1bfe276-aea8-4343-b831-75a29ac21fee"
      },
      "source": [
        "plot_fit('Initial model')"
      ],
      "execution_count": null,
      "outputs": [
        {
          "output_type": "display_data",
          "data": {
            "image/png": "[encoded data removed]",
            "text/plain": [
              "<Figure size 432x288 with 1 Axes>"
            ]
          },
          "metadata": {
            "tags": []
          }
        }
      ]
    },
    {
      "cell_type": "code",
      "metadata": {
        "id": "7stzEDTX1E_i"
      },
      "source": [
        "#loss function\n",
        "criterion = nn.MSELoss()\n",
        "#gradient descent\n",
        "optimizer = torch.optim.SGD(model.parameters(), lr = 0.009)"
      ],
      "execution_count": null,
      "outputs": []
    },
    {
      "cell_type": "code",
      "metadata": {
        "id": "lZ55CaPmllLQ",
        "colab": {
          "base_uri": "https://localhost:8080/",
          "height": 1000
        },
        "outputId": "2e5f8eaa-0063-4240-c646-76926262afd3"
      },
      "source": [
        "#testing\n",
        "#epochs: when we pass the dataset when we iterate we must calculate loss and gradient decent each time\n",
        "epochs = 100\n",
        "losses = []\n",
        "for i in range(epochs):\n",
        "  y_pred = model.forward(x)\n",
        "  #predict of line point and actual point\n",
        "  loss = criterion(y_pred,y)\n",
        "  print(\"epoch:\",i,\"loss:\", loss.item())\n",
        "  losses.append(loss)  \n",
        "  #gradients accumulate following the .backward() command\n",
        "  optimizer.zero_grad()\n",
        "  loss.backward()\n",
        "  #update paramaters\n",
        "  optimizer.step()"
      ],
      "execution_count": null,
      "outputs": [
        {
          "output_type": "stream",
          "text": [
            "epoch: 0 loss: 198.03021240234375\n",
            "epoch: 1 loss: 169.2321014404297\n",
            "epoch: 2 loss: 145.18109130859375\n",
            "epoch: 3 loss: 125.09468078613281\n",
            "epoch: 4 loss: 108.31907653808594\n",
            "epoch: 5 loss: 94.30879974365234\n",
            "epoch: 6 loss: 82.6079330444336\n",
            "epoch: 7 loss: 72.83567810058594\n",
            "epoch: 8 loss: 64.67422485351562\n",
            "epoch: 9 loss: 57.858036041259766\n",
            "epoch: 10 loss: 52.1652946472168\n",
            "epoch: 11 loss: 47.4108772277832\n",
            "epoch: 12 loss: 43.440086364746094\n",
            "epoch: 13 loss: 40.12372970581055\n",
            "epoch: 14 loss: 37.35395431518555\n",
            "epoch: 15 loss: 35.040645599365234\n",
            "epoch: 16 loss: 33.10856628417969\n",
            "epoch: 17 loss: 31.494882583618164\n",
            "epoch: 18 loss: 30.14710235595703\n",
            "epoch: 19 loss: 29.02140235900879\n",
            "epoch: 20 loss: 28.0811824798584\n",
            "epoch: 21 loss: 27.295854568481445\n",
            "epoch: 22 loss: 26.639902114868164\n",
            "epoch: 23 loss: 26.091991424560547\n",
            "epoch: 24 loss: 25.634321212768555\n",
            "epoch: 25 loss: 25.252017974853516\n",
            "epoch: 26 loss: 24.932659149169922\n",
            "epoch: 27 loss: 24.665868759155273\n",
            "epoch: 28 loss: 24.442989349365234\n",
            "epoch: 29 loss: 24.25678253173828\n",
            "epoch: 30 loss: 24.10120391845703\n",
            "epoch: 31 loss: 23.971208572387695\n",
            "epoch: 32 loss: 23.862579345703125\n",
            "epoch: 33 loss: 23.771799087524414\n",
            "epoch: 34 loss: 23.695926666259766\n",
            "epoch: 35 loss: 23.632503509521484\n",
            "epoch: 36 loss: 23.579483032226562\n",
            "epoch: 37 loss: 23.5351505279541\n",
            "epoch: 38 loss: 23.498077392578125\n",
            "epoch: 39 loss: 23.46706771850586\n",
            "epoch: 40 loss: 23.441123962402344\n",
            "epoch: 41 loss: 23.419410705566406\n",
            "epoch: 42 loss: 23.401233673095703\n",
            "epoch: 43 loss: 23.386011123657227\n",
            "epoch: 44 loss: 23.373258590698242\n",
            "epoch: 45 loss: 23.36256980895996\n",
            "epoch: 46 loss: 23.353605270385742\n",
            "epoch: 47 loss: 23.346080780029297\n",
            "epoch: 48 loss: 23.339763641357422\n",
            "epoch: 49 loss: 23.334453582763672\n",
            "epoch: 50 loss: 23.329984664916992\n",
            "epoch: 51 loss: 23.326223373413086\n",
            "epoch: 52 loss: 23.323049545288086\n",
            "epoch: 53 loss: 23.320371627807617\n",
            "epoch: 54 loss: 23.31810760498047\n",
            "epoch: 55 loss: 23.316186904907227\n",
            "epoch: 56 loss: 23.314558029174805\n",
            "epoch: 57 loss: 23.313173294067383\n",
            "epoch: 58 loss: 23.31199073791504\n",
            "epoch: 59 loss: 23.31097984313965\n",
            "epoch: 60 loss: 23.31011390686035\n",
            "epoch: 61 loss: 23.309368133544922\n",
            "epoch: 62 loss: 23.30872344970703\n",
            "epoch: 63 loss: 23.308164596557617\n",
            "epoch: 64 loss: 23.307680130004883\n",
            "epoch: 65 loss: 23.307254791259766\n",
            "epoch: 66 loss: 23.306880950927734\n",
            "epoch: 67 loss: 23.306550979614258\n",
            "epoch: 68 loss: 23.306259155273438\n",
            "epoch: 69 loss: 23.305997848510742\n",
            "epoch: 70 loss: 23.30576515197754\n",
            "epoch: 71 loss: 23.30555534362793\n",
            "epoch: 72 loss: 23.30536460876465\n",
            "epoch: 73 loss: 23.305191040039062\n",
            "epoch: 74 loss: 23.30503273010254\n",
            "epoch: 75 loss: 23.304885864257812\n",
            "epoch: 76 loss: 23.304750442504883\n",
            "epoch: 77 loss: 23.30462646484375\n",
            "epoch: 78 loss: 23.30451011657715\n",
            "epoch: 79 loss: 23.304401397705078\n",
            "epoch: 80 loss: 23.304298400878906\n",
            "epoch: 81 loss: 23.304203033447266\n",
            "epoch: 82 loss: 23.304113388061523\n",
            "epoch: 83 loss: 23.304027557373047\n",
            "epoch: 84 loss: 23.303945541381836\n",
            "epoch: 85 loss: 23.303869247436523\n",
            "epoch: 86 loss: 23.303794860839844\n",
            "epoch: 87 loss: 23.30372428894043\n",
            "epoch: 88 loss: 23.303659439086914\n",
            "epoch: 89 loss: 23.3035945892334\n",
            "epoch: 90 loss: 23.30353355407715\n",
            "epoch: 91 loss: 23.30347442626953\n",
            "epoch: 92 loss: 23.303417205810547\n",
            "epoch: 93 loss: 23.303363800048828\n",
            "epoch: 94 loss: 23.303312301635742\n",
            "epoch: 95 loss: 23.30326271057129\n",
            "epoch: 96 loss: 23.30321502685547\n",
            "epoch: 97 loss: 23.30316734313965\n",
            "epoch: 98 loss: 23.303123474121094\n",
            "epoch: 99 loss: 23.303081512451172\n"
          ],
          "name": "stdout"
        }
      ]
    },
    {
      "cell_type": "code",
      "metadata": {
        "id": "5vnPHpMFm2mH",
        "colab": {
          "base_uri": "https://localhost:8080/",
          "height": 296
        },
        "outputId": "1476564c-7361-4f1b-d82a-2e0aa367c579"
      },
      "source": [
        "plt.plot(range(epochs), losses)\n",
        "plt.ylabel('loss')\n",
        "plt.xlabel('epoch')"
      ],
      "execution_count": null,
      "outputs": [
        {
          "output_type": "execute_result",
          "data": {
            "text/plain": [
              "Text(0.5, 0, 'epoch')"
            ]
          },
          "metadata": {
            "tags": []
          },
          "execution_count": 17
        },
        {
          "output_type": "display_data",
          "data": {
            "image/png": "[encoded data removed]",
            "text/plain": [
              "<Figure size 432x288 with 1 Axes>"
            ]
          },
          "metadata": {
            "tags": []
          }
        }
      ]
    },
    {
      "cell_type": "code",
      "metadata": {
        "id": "C1D5C9TzrjRJ",
        "colab": {
          "base_uri": "https://localhost:8080/",
          "height": 265
        },
        "outputId": "3311f27b-1ef6-40b6-cc4d-a04f822ef1f5"
      },
      "source": [
        "plot_fit('Trained Model')"
      ],
      "execution_count": null,
      "outputs": [
        {
          "output_type": "display_data",
          "data": {
            "image/png": "[encoded data removed]",
            "text/plain": [
              "<Figure size 432x288 with 1 Axes>"
            ]
          },
          "metadata": {
            "tags": []
          }
        }
      ]
    },
    {
      "cell_type": "code",
      "metadata": {
        "id": "AuqSDMvOHRbP"
      },
      "source": [
        ""
      ],
      "execution_count": null,
      "outputs": []
    }
  ]
}